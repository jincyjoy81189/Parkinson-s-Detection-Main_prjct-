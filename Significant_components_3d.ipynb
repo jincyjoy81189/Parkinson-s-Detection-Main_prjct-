{
 "cells": [
  {
   "cell_type": "code",
   "execution_count": 42,
   "metadata": {
    "collapsed": true
   },
   "outputs": [],
   "source": [
    "import pandas as pd\n",
    "import numpy as np\n",
    "import matplotlib.pyplot as plt\n",
    "from sklearn.preprocessing import PolynomialFeatures\n",
    "from sklearn import decomposition\n",
    "from mpl_toolkits.mplot3d import Axes3D\n",
    "%matplotlib notebook"
   ]
  },
  {
   "cell_type": "code",
   "execution_count": 43,
   "metadata": {
    "collapsed": true
   },
   "outputs": [],
   "source": [
    "# Importing files with data for affected and non-affected test subjects.\n",
    "\n",
    "ds_co_3d = pd.read_csv('CSV/GaCo02_01.csv')\n",
    "ds_pt_3d = pd.read_csv('CSV/GaPt04_01.csv')\n"
   ]
  },
  {
   "cell_type": "code",
   "execution_count": 44,
   "metadata": {},
   "outputs": [],
   "source": [
    "ds_co_3d = ds_co_3d.iloc[:, 1:-2]\n",
    "ds_pt_3d = ds_pt_3d.iloc[:, 1:-2]\n",
    "\n"
   ]
  },
  {
   "cell_type": "code",
   "execution_count": 45,
   "metadata": {
    "scrolled": true
   },
   "outputs": [],
   "source": [
    "# Creating a Polynomial Features object of degree 2\n",
    "\n",
    "poly = PolynomialFeatures(degree=2)\n",
    "\n",
    "# Transforming data using polynomial Features object\n",
    "ds_co_poly_3d = poly.fit_transform(ds_co_3d)\n",
    "ds_pt_poly_3d = poly.fit_transform(ds_pt_3d)\n",
    "\n"
   ]
  },
  {
   "cell_type": "code",
   "execution_count": 46,
   "metadata": {},
   "outputs": [],
   "source": [
    "# Apllied PCA to reduce data to 3 dimensions\n",
    "\n",
    "pca1 = decomposition.PCA(n_components=3)\n",
    "ds_co_poly_pca_3d = pca2.fit_transform(ds_co_poly_3d)\n",
    "ds_pt_poly_pca_3d = pca2.fit_transform(ds_pt_poly_3d)\n",
    "\n"
   ]
  },
  {
   "cell_type": "code",
   "execution_count": 47,
   "metadata": {},
   "outputs": [
    {
     "data": {
      "text/plain": [
       "(3, 153)"
      ]
     },
     "execution_count": 47,
     "metadata": {},
     "output_type": "execute_result"
    }
   ],
   "source": [
    "# Dataframe consisting of significance values of components of Polynomial Features\n",
    "\n",
    "df_pca2 = pd.DataFrame(pca2.components_)\n",
    "df_pca2.shape"
   ]
  },
  {
   "cell_type": "code",
   "execution_count": 48,
   "metadata": {},
   "outputs": [
    {
     "data": {
      "text/html": [
       "<div>\n",
       "<style>\n",
       "    .dataframe thead tr:only-child th {\n",
       "        text-align: right;\n",
       "    }\n",
       "\n",
       "    .dataframe thead th {\n",
       "        text-align: left;\n",
       "    }\n",
       "\n",
       "    .dataframe tbody tr th {\n",
       "        vertical-align: top;\n",
       "    }\n",
       "</style>\n",
       "<table border=\"1\" class=\"dataframe\">\n",
       "  <thead>\n",
       "    <tr style=\"text-align: right;\">\n",
       "      <th></th>\n",
       "      <th>17</th>\n",
       "      <th>18</th>\n",
       "      <th>32</th>\n",
       "      <th>88</th>\n",
       "      <th>98</th>\n",
       "      <th>138</th>\n",
       "      <th>140</th>\n",
       "      <th>147</th>\n",
       "    </tr>\n",
       "  </thead>\n",
       "  <tbody>\n",
       "    <tr>\n",
       "      <th>0</th>\n",
       "      <td>NaN</td>\n",
       "      <td>NaN</td>\n",
       "      <td>NaN</td>\n",
       "      <td>NaN</td>\n",
       "      <td>NaN</td>\n",
       "      <td>0.198216</td>\n",
       "      <td>0.189826</td>\n",
       "      <td>0.191975</td>\n",
       "    </tr>\n",
       "    <tr>\n",
       "      <th>1</th>\n",
       "      <td>0.419327</td>\n",
       "      <td>0.211217</td>\n",
       "      <td>0.204539</td>\n",
       "      <td>NaN</td>\n",
       "      <td>NaN</td>\n",
       "      <td>NaN</td>\n",
       "      <td>NaN</td>\n",
       "      <td>NaN</td>\n",
       "    </tr>\n",
       "    <tr>\n",
       "      <th>2</th>\n",
       "      <td>NaN</td>\n",
       "      <td>NaN</td>\n",
       "      <td>NaN</td>\n",
       "      <td>0.200694</td>\n",
       "      <td>0.367403</td>\n",
       "      <td>NaN</td>\n",
       "      <td>NaN</td>\n",
       "      <td>0.202334</td>\n",
       "    </tr>\n",
       "  </tbody>\n",
       "</table>\n",
       "</div>"
      ],
      "text/plain": [
       "        17        18        32        88        98        138       140  \\\n",
       "0       NaN       NaN       NaN       NaN       NaN  0.198216  0.189826   \n",
       "1  0.419327  0.211217  0.204539       NaN       NaN       NaN       NaN   \n",
       "2       NaN       NaN       NaN  0.200694  0.367403       NaN       NaN   \n",
       "\n",
       "        147  \n",
       "0  0.191975  \n",
       "1       NaN  \n",
       "2  0.202334  "
      ]
     },
     "execution_count": 48,
     "metadata": {},
     "output_type": "execute_result"
    }
   ],
   "source": [
    "# Retrieving the most significant component's values along with their indices\n",
    "\n",
    "pd.DataFrame(pca2.components_).apply((lambda x: x.nlargest(3)), axis=1)"
   ]
  },
  {
   "cell_type": "code",
   "execution_count": 49,
   "metadata": {},
   "outputs": [
    {
     "ename": "AttributeError",
     "evalue": "'PCA' object has no attribute 'components_'",
     "output_type": "error",
     "traceback": [
      "\u001b[1;31m---------------------------------------------------------------------------\u001b[0m",
      "\u001b[1;31mAttributeError\u001b[0m                            Traceback (most recent call last)",
      "\u001b[1;32m<ipython-input-49-0803a700d28a>\u001b[0m in \u001b[0;36m<module>\u001b[1;34m()\u001b[0m\n\u001b[0;32m      1\u001b[0m \u001b[1;31m# Retrieving the most significant component's index\u001b[0m\u001b[1;33m\u001b[0m\u001b[1;33m\u001b[0m\u001b[0m\n\u001b[0;32m      2\u001b[0m \u001b[1;33m\u001b[0m\u001b[0m\n\u001b[1;32m----> 3\u001b[1;33m \u001b[0mpd\u001b[0m\u001b[1;33m.\u001b[0m\u001b[0mDataFrame\u001b[0m\u001b[1;33m(\u001b[0m\u001b[0mpca1\u001b[0m\u001b[1;33m.\u001b[0m\u001b[0mcomponents_\u001b[0m\u001b[1;33m)\u001b[0m\u001b[1;33m.\u001b[0m\u001b[0mapply\u001b[0m\u001b[1;33m(\u001b[0m\u001b[1;33m(\u001b[0m\u001b[1;32mlambda\u001b[0m \u001b[0mx\u001b[0m\u001b[1;33m:\u001b[0m \u001b[0mx\u001b[0m\u001b[1;33m.\u001b[0m\u001b[0margmax\u001b[0m\u001b[1;33m(\u001b[0m\u001b[1;33m)\u001b[0m\u001b[1;33m)\u001b[0m\u001b[1;33m,\u001b[0m \u001b[0maxis\u001b[0m\u001b[1;33m=\u001b[0m\u001b[1;36m1\u001b[0m\u001b[1;33m)\u001b[0m\u001b[1;33m\u001b[0m\u001b[0m\n\u001b[0m",
      "\u001b[1;31mAttributeError\u001b[0m: 'PCA' object has no attribute 'components_'"
     ]
    }
   ],
   "source": [
    "# Retrieving the most significant component's index\n",
    "\n",
    "pd.DataFrame(pca1.components_).apply((lambda x: x.argmax()), axis=1)"
   ]
  },
  {
   "cell_type": "code",
   "execution_count": 50,
   "metadata": {},
   "outputs": [
    {
     "name": "stdout",
     "output_type": "stream",
     "text": [
      "['VGRF_right_s4^2', 'VGRF_right_s6^2', 'VGRF_right_s4 VGRF_right_s6']\n"
     ]
    }
   ],
   "source": [
    "# Retrieving the 3 most significant component's name for PC1\n",
    "\n",
    "print([poly.get_feature_names(ds_co_3d.columns)[138],\n",
    "poly.get_feature_names(ds_co_3d.columns)[147],\n",
    "poly.get_feature_names(ds_co_3d.columns)[140]])"
   ]
  },
  {
   "cell_type": "code",
   "execution_count": 51,
   "metadata": {},
   "outputs": [
    {
     "name": "stdout",
     "output_type": "stream",
     "text": [
      "['VGRF_left_s1^2', 'VGRF_left_s1 VGRF_left_s2', 'VGRF_left_s1 VGRF_right_s8']\n"
     ]
    }
   ],
   "source": [
    "# Second most significant component's name for PC2\n",
    "\n",
    "print([poly.get_feature_names(ds_co_3d.columns)[17],poly.get_feature_names(ds_co_3d.columns)[18],poly.get_feature_names(ds_co_3d.columns)[32]])"
   ]
  },
  {
   "cell_type": "code",
   "execution_count": 52,
   "metadata": {},
   "outputs": [
    {
     "name": "stdout",
     "output_type": "stream",
     "text": [
      "['VGRF_left_s7^2', 'VGRF_right_s6^2', 'VGRF_left_s6 VGRF_left_s7']\n"
     ]
    }
   ],
   "source": [
    "# Third most significant component's name for PC3\n",
    "\n",
    "print([poly.get_feature_names(ds_co_3d.columns)[98],poly.get_feature_names(ds_co_3d.columns)[147],poly.get_feature_names(ds_co_3d.columns)[88]])"
   ]
  },
  {
   "cell_type": "code",
   "execution_count": null,
   "metadata": {
    "collapsed": true
   },
   "outputs": [],
   "source": []
  }
 ],
 "metadata": {
  "kernelspec": {
   "display_name": "Python 3",
   "language": "python",
   "name": "python3"
  },
  "language_info": {
   "codemirror_mode": {
    "name": "ipython",
    "version": 3
   },
   "file_extension": ".py",
   "mimetype": "text/x-python",
   "name": "python",
   "nbconvert_exporter": "python",
   "pygments_lexer": "ipython3",
   "version": "3.6.2"
  }
 },
 "nbformat": 4,
 "nbformat_minor": 2
}
