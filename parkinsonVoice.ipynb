{
 "cells": [
  {
   "cell_type": "code",
   "execution_count": 14,
   "metadata": {},
   "outputs": [],
   "source": [
    "import pandas as pd\n",
    "import numpy as np\n",
    "from sklearn import preprocessing\n",
    "from sklearn.model_selection import train_test_split"
   ]
  },
  {
   "cell_type": "code",
   "execution_count": 15,
   "metadata": {},
   "outputs": [],
   "source": [
    "class ParkinsonLoader():\n",
    "  def __init__(self, path):\n",
    "    parkinson_dataset = pd.read_csv('parkinsons_updrs.csv')\n",
    "    # drop rows that have NAN value.\n",
    "    parkinson_dataset = parkinson_dataset.dropna()\n",
    "    # split x and y sub-dataset from the total dataset.\n",
    "    columns = ['motor_UPDRS', 'total_UPDRS']\n",
    "    parkinson_x = np.array(parkinson_dataset.drop(columns, axis=1))\n",
    "    parkinson_y = np.array(pd.DataFrame(parkinson_dataset, columns=columns))\n",
    "    # split the train and test dataset.\n",
    "    self.X_train, self.X_test, self.y_train, self.y_test = train_test_split(parkinson_x, parkinson_y, test_size=0.25, random_state=5)\n",
    "    # feature scaling uses the StandardScaler.\n",
    "    self.scaler = preprocessing.StandardScaler().fit(self.X_train)\n",
    "    # get the number of trainset and testset.\n",
    "    self.num_train_data = np.shape(self.X_train)[0]\n",
    "    self.num_test_data = np.shape(self.X_test)[0]\n",
    "\n",
    "  def get_train_batch(self, batch_size):\n",
    "    # randormly pick train batch (batch_size).\n",
    "    index = np.random.randint(0, self.num_train_data, batch_size)\n",
    "    return self.scaler.transform(self.X_train[index, :]), self.y_train[index, :]\n",
    "  \n",
    "  def get_testset(self):\n",
    "    # get the test dataset.\n",
    "    return self.scaler.transform(self.X_test), self.y_test"
   ]
  },
  {
   "cell_type": "code",
   "execution_count": 16,
   "metadata": {},
   "outputs": [],
   "source": [
    "import tensorflow as tf\n",
    "tf.keras.backend.set_floatx('float64')\n",
    "\n",
    "class MLP(tf.keras.Model):\n",
    "  def __init__(self):\n",
    "    super().__init__()\n",
    "    self.dense1 = tf.keras.layers.Dense(100, activation=tf.nn.relu)\n",
    "    self.dense2 = tf.keras.layers.Dense(100, activation=tf.nn.relu)\n",
    "    self.dense3 = tf.keras.layers.Dense(2)\n",
    "\n",
    "  def call(self, inputs):\n",
    "    x = np.array(inputs).reshape(1, len(inputs))\n",
    "    x = self.dense1(x)\n",
    "    x = self.dense2(x)\n",
    "    output = self.dense3(x)\n",
    "    return output\n",
    "\n",
    "  def predict(self, testdata):\n",
    "    return self.call(testdata)"
   ]
  },
  {
   "cell_type": "code",
   "execution_count": 19,
   "metadata": {},
   "outputs": [
    {
     "name": "stderr",
     "output_type": "stream",
     "text": [
      " [Elapsed Time: 0:00:00] |#############| (17600 of 17600) 100% (Time: 0:00:00) \n"
     ]
    }
   ],
   "source": [
    "import time\n",
    "import progressbar\n",
    "\n",
    "widgets=[\n",
    "    ' [', progressbar.Timer(), '] ',\n",
    "    progressbar.Bar(),\n",
    "    ' (', progressbar.SimpleProgress(),') ',\n",
    "    progressbar.Percentage(),\n",
    "    ' (', progressbar.ETA(), ') ',\n",
    "]\n",
    "\n",
    "num_epochs = 400\n",
    "batch_size = 100\n",
    "learning_rate = 0.001\n",
    "parkinson_path = \"C:/Users/Jincy Joy/Desktop/ParkinsonDetection/parkinsons_updrs.csv\"\n",
    "\n",
    "model = MLP()\n",
    "data_loader = ParkinsonLoader(parkinson_path)\n",
    "optimizer = tf.keras.optimizers.Adam(learning_rate=learning_rate)\n",
    "num_batches = int(data_loader.num_train_data // batch_size * num_epochs)\n",
    "progress_bar = progressbar.ProgressBar(maxval=num_batches, widgets=widgets)\n",
    "\n",
    "for batch_index in range(num_batches):\n",
    "  loss = 0\n",
    "  X, y = data_loader.get_train_batch(batch_size)\n",
    "  with tf.GradientTape() as tape:\n",
    "      for index in range(batch_size):\n",
    "        y_pred = model(X[index, :])\n",
    "        loss_temp = tf.losses.mean_squared_error(y_pred, y[index, :])\n",
    "        loss_temp = tf.reduce_mean(loss_temp)\n",
    "        loss = loss + loss_temp\n",
    "  time.sleep(0.1)\n",
    "  progress_bar.start()\n",
    "  progress_bar.update(batch_index)\n",
    "  grads = tape.gradient(loss, model.trainable_variables)\n",
    "  optimizer.apply_gradients(grads_and_vars=zip(grads, model.trainable_variables))\n",
    "progress_bar.finish()"
   ]
  },
  {
   "cell_type": "code",
   "execution_count": 21,
   "metadata": {},
   "outputs": [
    {
     "name": "stdout",
     "output_type": "stream",
     "text": [
      "MAE of motor_UPDRS: 0.662164 \n",
      "MAE of total_UPDRS: 0.789696\n"
     ]
    }
   ],
   "source": [
    "accuracy = np.array([0, 0])\n",
    "test_X, test_y = data_loader.get_testset()\n",
    "for index in range(data_loader.num_test_data):\n",
    "  y_pred = model.predict(test_X[index, :])\n",
    "  accuracy = accuracy + abs(y_pred-test_y[index, :])\n",
    "accuracy = accuracy/data_loader.num_test_data\n",
    "print(\"MAE of motor_UPDRS: %f \\nMAE of total_UPDRS: %f\" % (accuracy[0][0], accuracy[0][1]))"
   ]
  },
  {
   "cell_type": "code",
   "execution_count": null,
   "metadata": {},
   "outputs": [],
   "source": []
  }
 ],
 "metadata": {
  "kernelspec": {
   "display_name": "Python 3",
   "language": "python",
   "name": "python3"
  },
  "language_info": {
   "codemirror_mode": {
    "name": "ipython",
    "version": 3
   },
   "file_extension": ".py",
   "mimetype": "text/x-python",
   "name": "python",
   "nbconvert_exporter": "python",
   "pygments_lexer": "ipython3",
   "version": "3.8.1"
  }
 },
 "nbformat": 4,
 "nbformat_minor": 4
}
