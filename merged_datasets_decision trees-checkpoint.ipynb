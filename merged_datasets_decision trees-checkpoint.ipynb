{
 "cells": [
  {
   "cell_type": "code",
   "execution_count": 16,
   "metadata": {
    "collapsed": true
   },
   "outputs": [],
   "source": [
    "import pandas as pd\n",
    "import numpy as np\n",
    "\n",
    "from sklearn.tree import DecisionTreeClassifier\n",
    "from sklearn.model_selection import train_test_split\n",
    "from sklearn.svm import SVC\n",
    "import matplotlib.pyplot as plt\n",
    "from sklearn.ensemble import RandomForestClassifier\n",
    "from sklearn.metrics import accuracy_score, precision_score, recall_score, f1_score\n",
    "from sklearn.metrics import roc_curve, auc"
   ]
  },
  {
   "cell_type": "code",
   "execution_count": 17,
   "metadata": {
    "collapsed": true
   },
   "outputs": [],
   "source": [
    "df1 = pd.read_csv('Transformed Data/Transformed_Co', index_col = 0)\n",
    "df2 = pd.read_csv('Transformed Data/Transformed_Pt' , index_col = 0)"
   ]
  },
  {
   "cell_type": "code",
   "execution_count": 18,
   "metadata": {},
   "outputs": [
    {
     "data": {
      "text/plain": [
       "(214, 133, 92, 133)"
      ]
     },
     "execution_count": 18,
     "metadata": {},
     "output_type": "execute_result"
    }
   ],
   "source": [
    "df1_len = df1.shape[0]\n",
    "df2_len = df2.shape[0]\n",
    "df2.shape + df1.shape"
   ]
  },
  {
   "cell_type": "code",
   "execution_count": 19,
   "metadata": {
    "collapsed": true,
    "scrolled": true
   },
   "outputs": [],
   "source": [
    "X = pd.concat([df1, df2])"
   ]
  },
  {
   "cell_type": "code",
   "execution_count": 20,
   "metadata": {},
   "outputs": [
    {
     "data": {
      "text/plain": [
       "(92,)"
      ]
     },
     "execution_count": 20,
     "metadata": {},
     "output_type": "execute_result"
    }
   ],
   "source": [
    "y1 = pd.Series([0]*df1_len)\n",
    "y1.shape"
   ]
  },
  {
   "cell_type": "code",
   "execution_count": 21,
   "metadata": {},
   "outputs": [
    {
     "data": {
      "text/plain": [
       "(214,)"
      ]
     },
     "execution_count": 21,
     "metadata": {},
     "output_type": "execute_result"
    }
   ],
   "source": [
    "y2 = pd.Series([1]*df2_len, index = range(df1_len-1,(df1_len + df2_len)-1))\n",
    "y2.shape"
   ]
  },
  {
   "cell_type": "code",
   "execution_count": 22,
   "metadata": {},
   "outputs": [
    {
     "data": {
      "text/plain": [
       "(306,)"
      ]
     },
     "execution_count": 22,
     "metadata": {},
     "output_type": "execute_result"
    }
   ],
   "source": [
    "y = pd.concat([y1,y2]) \n",
    "y.shape"
   ]
  },
  {
   "cell_type": "code",
   "execution_count": 8,
   "metadata": {},
   "outputs": [
    {
     "name": "stdout",
     "output_type": "stream",
     "text": [
      "0 out of 1000 done\n",
      "1 out of 1000 done\n",
      "2 out of 1000 done\n",
      "3 out of 1000 done\n",
      "4 out of 1000 done\n",
      "5 out of 1000 done\n",
      "6 out of 1000 done\n",
      "7 out of 1000 done\n",
      "8 out of 1000 done\n",
      "9 out of 1000 done\n",
      "10 out of 1000 done\n",
      "11 out of 1000 done\n",
      "12 out of 1000 done\n",
      "13 out of 1000 done\n",
      "14 out of 1000 done\n",
      "15 out of 1000 done\n",
      "16 out of 1000 done\n",
      "17 out of 1000 done\n",
      "18 out of 1000 done\n",
      "19 out of 1000 done\n",
      "20 out of 1000 done\n"
     ]
    },
    {
     "ename": "KeyboardInterrupt",
     "evalue": "",
     "output_type": "error",
     "traceback": [
      "\u001b[1;31m---------------------------------------------------------------------------\u001b[0m",
      "\u001b[1;31mKeyboardInterrupt\u001b[0m                         Traceback (most recent call last)",
      "\u001b[1;32m<ipython-input-8-eb9e6cd2084d>\u001b[0m in \u001b[0;36m<module>\u001b[1;34m()\u001b[0m\n\u001b[0;32m     15\u001b[0m \u001b[1;33m\u001b[0m\u001b[0m\n\u001b[0;32m     16\u001b[0m     \u001b[1;32mfor\u001b[0m \u001b[0mdep\u001b[0m \u001b[1;32min\u001b[0m \u001b[0mrange\u001b[0m\u001b[1;33m(\u001b[0m\u001b[1;36m2\u001b[0m\u001b[1;33m,\u001b[0m \u001b[1;36m15\u001b[0m\u001b[1;33m)\u001b[0m\u001b[1;33m:\u001b[0m\u001b[1;33m\u001b[0m\u001b[0m\n\u001b[1;32m---> 17\u001b[1;33m         \u001b[0mclf\u001b[0m \u001b[1;33m=\u001b[0m \u001b[0mDecisionTreeClassifier\u001b[0m\u001b[1;33m(\u001b[0m\u001b[0mmax_depth\u001b[0m \u001b[1;33m=\u001b[0m \u001b[0mdep\u001b[0m\u001b[1;33m)\u001b[0m\u001b[1;33m.\u001b[0m\u001b[0mfit\u001b[0m\u001b[1;33m(\u001b[0m\u001b[0mX_train\u001b[0m\u001b[1;33m,\u001b[0m \u001b[0my_train\u001b[0m\u001b[1;33m)\u001b[0m\u001b[1;33m\u001b[0m\u001b[0m\n\u001b[0m\u001b[0;32m     18\u001b[0m         \u001b[0mscore\u001b[0m \u001b[1;33m=\u001b[0m \u001b[0mclf\u001b[0m\u001b[1;33m.\u001b[0m\u001b[0mscore\u001b[0m\u001b[1;33m(\u001b[0m\u001b[0mX_test\u001b[0m\u001b[1;33m,\u001b[0m \u001b[0mnp\u001b[0m\u001b[1;33m.\u001b[0m\u001b[0mravel\u001b[0m\u001b[1;33m(\u001b[0m\u001b[0my_test\u001b[0m\u001b[1;33m)\u001b[0m\u001b[1;33m)\u001b[0m\u001b[1;33m\u001b[0m\u001b[0m\n\u001b[0;32m     19\u001b[0m \u001b[1;33m\u001b[0m\u001b[0m\n",
      "\u001b[1;32mC:\\Anaconda\\lib\\site-packages\\sklearn\\tree\\tree.py\u001b[0m in \u001b[0;36mfit\u001b[1;34m(self, X, y, sample_weight, check_input, X_idx_sorted)\u001b[0m\n\u001b[0;32m    788\u001b[0m             \u001b[0msample_weight\u001b[0m\u001b[1;33m=\u001b[0m\u001b[0msample_weight\u001b[0m\u001b[1;33m,\u001b[0m\u001b[1;33m\u001b[0m\u001b[0m\n\u001b[0;32m    789\u001b[0m             \u001b[0mcheck_input\u001b[0m\u001b[1;33m=\u001b[0m\u001b[0mcheck_input\u001b[0m\u001b[1;33m,\u001b[0m\u001b[1;33m\u001b[0m\u001b[0m\n\u001b[1;32m--> 790\u001b[1;33m             X_idx_sorted=X_idx_sorted)\n\u001b[0m\u001b[0;32m    791\u001b[0m         \u001b[1;32mreturn\u001b[0m \u001b[0mself\u001b[0m\u001b[1;33m\u001b[0m\u001b[0m\n\u001b[0;32m    792\u001b[0m \u001b[1;33m\u001b[0m\u001b[0m\n",
      "\u001b[1;32mC:\\Anaconda\\lib\\site-packages\\sklearn\\tree\\tree.py\u001b[0m in \u001b[0;36mfit\u001b[1;34m(self, X, y, sample_weight, check_input, X_idx_sorted)\u001b[0m\n\u001b[0;32m    360\u001b[0m                                            min_impurity_split)\n\u001b[0;32m    361\u001b[0m \u001b[1;33m\u001b[0m\u001b[0m\n\u001b[1;32m--> 362\u001b[1;33m         \u001b[0mbuilder\u001b[0m\u001b[1;33m.\u001b[0m\u001b[0mbuild\u001b[0m\u001b[1;33m(\u001b[0m\u001b[0mself\u001b[0m\u001b[1;33m.\u001b[0m\u001b[0mtree_\u001b[0m\u001b[1;33m,\u001b[0m \u001b[0mX\u001b[0m\u001b[1;33m,\u001b[0m \u001b[0my\u001b[0m\u001b[1;33m,\u001b[0m \u001b[0msample_weight\u001b[0m\u001b[1;33m,\u001b[0m \u001b[0mX_idx_sorted\u001b[0m\u001b[1;33m)\u001b[0m\u001b[1;33m\u001b[0m\u001b[0m\n\u001b[0m\u001b[0;32m    363\u001b[0m \u001b[1;33m\u001b[0m\u001b[0m\n\u001b[0;32m    364\u001b[0m         \u001b[1;32mif\u001b[0m \u001b[0mself\u001b[0m\u001b[1;33m.\u001b[0m\u001b[0mn_outputs_\u001b[0m \u001b[1;33m==\u001b[0m \u001b[1;36m1\u001b[0m\u001b[1;33m:\u001b[0m\u001b[1;33m\u001b[0m\u001b[0m\n",
      "\u001b[1;31mKeyboardInterrupt\u001b[0m: "
     ]
    }
   ],
   "source": [
    "max_dep = 0\n",
    "score_val = 0\n",
    "min_range = 0\n",
    "max_range = 1000\n",
    "state = 0\n",
    "\n",
    "for rand_state in range(min_range, max_range):\n",
    "    X_train, X_test, y_train1, y_test1 = train_test_split(X, y, random_state = rand_state)\n",
    "    y_train = pd.DataFrame(y_train1)\n",
    "    y_test = pd.DataFrame(y_test1)\n",
    "\n",
    "    \"\"\"scaler = MinMaxScaler().fit(X_train)\n",
    "    X_train = scaler.transform(X_train)\n",
    "    X_test = scaler.transform(X_test)\"\"\"\n",
    "    \n",
    "    for dep in range(2, 15):\n",
    "        clf = DecisionTreeClassifier(max_depth = dep).fit(X_train, y_train)\n",
    "        score = clf.score(X_test, np.ravel(y_test))\n",
    "\n",
    "        if score > score_val:\n",
    "            max_dep = dep\n",
    "            score_val = score\n",
    "            state = rand_state\n",
    "\n",
    "    print('{} out of {} done'.format(rand_state - min_range, max_range - min_range))\n",
    "print(\"Max-Depth = {}, Score = {}, Random State = {}\".format(max_dep, score_val, state))"
   ]
  },
  {
   "cell_type": "code",
   "execution_count": 23,
   "metadata": {},
   "outputs": [
    {
     "name": "stdout",
     "output_type": "stream",
     "text": [
      "Accuracy of Decision Tree classifier on training set: 1.00\n",
      "Accuracy of Decision Tree classifier on test set: 0.62\n"
     ]
    }
   ],
   "source": [
    "X_train, X_test, y_train1, y_test1 = train_test_split(X, y)\n",
    "clf = DecisionTreeClassifier(max_depth = 20).fit(X_train, y_train)\n",
    "\n",
    "print('Accuracy of Decision Tree classifier on training set: {:.2f}'\n",
    "     .format(clf.score(X_train, y_train)))\n",
    "print('Accuracy of Decision Tree classifier on test set: {:.2f}'\n",
    "     .format(clf.score(X_test, y_test)))"
   ]
  },
  {
   "cell_type": "code",
   "execution_count": 24,
   "metadata": {
    "scrolled": true
   },
   "outputs": [
    {
     "name": "stdout",
     "output_type": "stream",
     "text": [
      "0.0716253282319\n"
     ]
    },
    {
     "data": {
      "text/plain": [
       "76"
      ]
     },
     "execution_count": 24,
     "metadata": {},
     "output_type": "execute_result"
    }
   ],
   "source": [
    "\n",
    "fi = clf.feature_importances_\n",
    "print(np.max(fi))\n",
    "np.argmax(fi)"
   ]
  },
  {
   "cell_type": "code",
   "execution_count": 25,
   "metadata": {
    "scrolled": true
   },
   "outputs": [
    {
     "name": "stdout",
     "output_type": "stream",
     "text": [
      "[\n",
      "'Time(sec)Min',\n",
      "'Time(sec)Max',\n",
      "'Time(sec)Std',\n",
      "'Time(sec)Med',\n",
      "'Time(sec)Avg',\n",
      "'Time(sec)Skewness',\n",
      "'Time(sec)Kurtosis',\n",
      "'VGRF_left_s1Min',\n",
      "'VGRF_left_s1Max',\n",
      "'VGRF_left_s1Std',\n",
      "'VGRF_left_s1Med',\n",
      "'VGRF_left_s1Avg',\n",
      "'VGRF_left_s1Skewness',\n",
      "'VGRF_left_s1Kurtosis',\n",
      "'VGRF_left_s2Min',\n",
      "'VGRF_left_s2Max',\n",
      "'VGRF_left_s2Std',\n",
      "'VGRF_left_s2Med',\n",
      "'VGRF_left_s2Avg',\n",
      "'VGRF_left_s2Skewness',\n",
      "'VGRF_left_s2Kurtosis',\n",
      "'VGRF_left_s3Min',\n",
      "'VGRF_left_s3Max',\n",
      "'VGRF_left_s3Std',\n",
      "'VGRF_left_s3Med',\n",
      "'VGRF_left_s3Avg',\n",
      "'VGRF_left_s3Skewness',\n",
      "'VGRF_left_s3Kurtosis',\n",
      "'VGRF_left_s4Min',\n",
      "'VGRF_left_s4Max',\n",
      "'VGRF_left_s4Std',\n",
      "'VGRF_left_s4Med',\n",
      "'VGRF_left_s4Avg',\n",
      "'VGRF_left_s4Skewness',\n",
      "'VGRF_left_s4Kurtosis',\n",
      "'VGRF_left_s5Min',\n",
      "'VGRF_left_s5Max',\n",
      "'VGRF_left_s5Std',\n",
      "'VGRF_left_s5Med',\n",
      "'VGRF_left_s5Avg',\n",
      "'VGRF_left_s5Skewness',\n",
      "'VGRF_left_s5Kurtosis',\n",
      "'VGRF_left_s6Min',\n",
      "'VGRF_left_s6Max',\n",
      "'VGRF_left_s6Std',\n",
      "'VGRF_left_s6Med',\n",
      "'VGRF_left_s6Avg',\n",
      "'VGRF_left_s6Skewness',\n",
      "'VGRF_left_s6Kurtosis',\n",
      "'VGRF_left_s7Min',\n",
      "'VGRF_left_s7Max',\n",
      "'VGRF_left_s7Std',\n",
      "'VGRF_left_s7Med',\n",
      "'VGRF_left_s7Avg',\n",
      "'VGRF_left_s7Skewness',\n",
      "'VGRF_left_s7Kurtosis',\n",
      "'VGRF_left_s8Min',\n",
      "'VGRF_left_s8Max',\n",
      "'VGRF_left_s8Std',\n",
      "'VGRF_left_s8Med',\n",
      "'VGRF_left_s8Avg',\n",
      "'VGRF_left_s8Skewness',\n",
      "'VGRF_left_s8Kurtosis',\n",
      "'VGRF_right_s1Min',\n",
      "'VGRF_right_s1Max',\n",
      "'VGRF_right_s1Std',\n",
      "'VGRF_right_s1Med',\n",
      "'VGRF_right_s1Avg',\n",
      "'VGRF_right_s1Skewness',\n",
      "'VGRF_right_s1Kurtosis',\n",
      "'VGRF_right_s2Min',\n",
      "'VGRF_right_s2Max',\n",
      "'VGRF_right_s2Std',\n",
      "'VGRF_right_s2Med',\n",
      "'VGRF_right_s2Avg',\n",
      "'VGRF_right_s2Skewness',\n",
      "'VGRF_right_s2Kurtosis',\n",
      "'VGRF_right_s3Min',\n",
      "'VGRF_right_s3Max',\n",
      "'VGRF_right_s3Std',\n",
      "'VGRF_right_s3Med',\n",
      "'VGRF_right_s3Avg',\n",
      "'VGRF_right_s3Skewness',\n",
      "'VGRF_right_s3Kurtosis',\n",
      "'VGRF_right_s4Min',\n",
      "'VGRF_right_s4Max',\n",
      "'VGRF_right_s4Std',\n",
      "'VGRF_right_s4Med',\n",
      "'VGRF_right_s4Avg',\n",
      "'VGRF_right_s4Skewness',\n",
      "'VGRF_right_s4Kurtosis',\n",
      "'VGRF_right_s5Min',\n",
      "'VGRF_right_s5Max',\n",
      "'VGRF_right_s5Std',\n",
      "'VGRF_right_s5Med',\n",
      "'VGRF_right_s5Avg',\n",
      "'VGRF_right_s5Skewness',\n",
      "'VGRF_right_s5Kurtosis',\n",
      "'VGRF_right_s6Min',\n",
      "'VGRF_right_s6Max',\n",
      "'VGRF_right_s6Std',\n",
      "'VGRF_right_s6Med',\n",
      "'VGRF_right_s6Avg',\n",
      "'VGRF_right_s6Skewness',\n",
      "'VGRF_right_s6Kurtosis',\n",
      "'VGRF_right_s7Min',\n",
      "'VGRF_right_s7Max',\n",
      "'VGRF_right_s7Std',\n",
      "'VGRF_right_s7Med',\n",
      "'VGRF_right_s7Avg',\n",
      "'VGRF_right_s7Skewness',\n",
      "'VGRF_right_s7Kurtosis',\n",
      "'VGRF_right_s8Min',\n",
      "'VGRF_right_s8Max',\n",
      "'VGRF_right_s8Std',\n",
      "'VGRF_right_s8Med',\n",
      "'VGRF_right_s8Avg',\n",
      "'VGRF_right_s8Skewness',\n",
      "'VGRF_right_s8Kurtosis',\n",
      "'Total_force_leftMin',\n",
      "'Total_force_leftMax',\n",
      "'Total_force_leftStd',\n",
      "'Total_force_leftMed',\n",
      "'Total_force_leftAvg',\n",
      "'Total_force_leftSkewness',\n",
      "'Total_force_leftKurtosis',\n",
      "'Total_force_rightMin',\n",
      "'Total_force_rightMax',\n",
      "'Total_force_rightStd',\n",
      "'Total_force_rightMed',\n",
      "'Total_force_rightAvg',\n",
      "'Total_force_rightSkewness',\n",
      "'Total_force_rightKurtosis'\n",
      "]\n"
     ]
    }
   ],
   "source": [
    "print('[')\n",
    "for zx in X.columns:\n",
    "    \n",
    "    \n",
    "    if zx == 'Total_force_rightKurtosis':\n",
    "        print(\"'{}'\".format(zx))\n",
    "    else:\n",
    "        print(\"'{}',\".format(zx))\n",
    "print(']')"
   ]
  },
  {
   "cell_type": "code",
   "execution_count": 12,
   "metadata": {
    "collapsed": true
   },
   "outputs": [],
   "source": [
    "def plot_feature_importances(clf, feature_names):\n",
    "    c_features = len(feature_names)\n",
    "    plt.barh(range(c_features), clf.feature_importances_)\n",
    "    plt.xlabel(\"Feature importance\")\n",
    "    plt.ylabel(\"Feature name\")\n",
    "    plt.yticks(np.arange(c_features), feature_names)\n",
    "\n",
    "    \n",
    "    "
   ]
  },
  {
   "cell_type": "code",
   "execution_count": 26,
   "metadata": {
    "collapsed": true
   },
   "outputs": [],
   "source": [
    "zx = [\n",
    "'Time(sec)Min',\n",
    "'Time(sec)Max',\n",
    "'Time(sec)Std',\n",
    "'Time(sec)Med',\n",
    "'Time(sec)Avg',\n",
    "'Time(sec)Skewness',\n",
    "'Time(sec)Kurtosis',\n",
    "'VGRF_left_s1Min',\n",
    "'VGRF_left_s1Max',\n",
    "'VGRF_left_s1Std',\n",
    "'VGRF_left_s1Med',\n",
    "'VGRF_left_s1Avg',\n",
    "'VGRF_left_s1Skewness',\n",
    "'VGRF_left_s1Kurtosis',\n",
    "'VGRF_left_s2Min',\n",
    "'VGRF_left_s2Max',\n",
    "'VGRF_left_s2Std',\n",
    "'VGRF_left_s2Med',\n",
    "'VGRF_left_s2Avg',\n",
    "'VGRF_left_s2Skewness',\n",
    "'VGRF_left_s2Kurtosis',\n",
    "'VGRF_left_s3Min',\n",
    "'VGRF_left_s3Max',\n",
    "'VGRF_left_s3Std',\n",
    "'VGRF_left_s3Med',\n",
    "'VGRF_left_s3Avg',\n",
    "'VGRF_left_s3Skewness',\n",
    "'VGRF_left_s3Kurtosis',\n",
    "'VGRF_left_s4Min',\n",
    "'VGRF_left_s4Max',\n",
    "'VGRF_left_s4Std',\n",
    "'VGRF_left_s4Med',\n",
    "'VGRF_left_s4Avg',\n",
    "'VGRF_left_s4Skewness',\n",
    "'VGRF_left_s4Kurtosis',\n",
    "'VGRF_left_s5Min',\n",
    "'VGRF_left_s5Max',\n",
    "'VGRF_left_s5Std',\n",
    "'VGRF_left_s5Med',\n",
    "'VGRF_left_s5Avg',\n",
    "'VGRF_left_s5Skewness',\n",
    "'VGRF_left_s5Kurtosis',\n",
    "'VGRF_left_s6Min',\n",
    "'VGRF_left_s6Max',\n",
    "'VGRF_left_s6Std',\n",
    "'VGRF_left_s6Med',\n",
    "'VGRF_left_s6Avg',\n",
    "'VGRF_left_s6Skewness',\n",
    "'VGRF_left_s6Kurtosis',\n",
    "'VGRF_left_s7Min',\n",
    "'VGRF_left_s7Max',\n",
    "'VGRF_left_s7Std',\n",
    "'VGRF_left_s7Med',\n",
    "'VGRF_left_s7Avg',\n",
    "'VGRF_left_s7Skewness',\n",
    "'VGRF_left_s7Kurtosis',\n",
    "'VGRF_left_s8Min',\n",
    "'VGRF_left_s8Max',\n",
    "'VGRF_left_s8Std',\n",
    "'VGRF_left_s8Med',\n",
    "'VGRF_left_s8Avg',\n",
    "'VGRF_left_s8Skewness',\n",
    "'VGRF_left_s8Kurtosis',\n",
    "'VGRF_right_s1Min',\n",
    "'VGRF_right_s1Max',\n",
    "'VGRF_right_s1Std',\n",
    "'VGRF_right_s1Med',\n",
    "'VGRF_right_s1Avg',\n",
    "'VGRF_right_s1Skewness',\n",
    "'VGRF_right_s1Kurtosis',\n",
    "'VGRF_right_s2Min',\n",
    "'VGRF_right_s2Max',\n",
    "'VGRF_right_s2Std',\n",
    "'VGRF_right_s2Med',\n",
    "'VGRF_right_s2Avg',\n",
    "'VGRF_right_s2Skewness',\n",
    "'VGRF_right_s2Kurtosis',\n",
    "'VGRF_right_s3Min',\n",
    "'VGRF_right_s3Max',\n",
    "'VGRF_right_s3Std',\n",
    "'VGRF_right_s3Med',\n",
    "'VGRF_right_s3Avg',\n",
    "'VGRF_right_s3Skewness',\n",
    "'VGRF_right_s3Kurtosis',\n",
    "'VGRF_right_s4Min',\n",
    "'VGRF_right_s4Max',\n",
    "'VGRF_right_s4Std',\n",
    "'VGRF_right_s4Med',\n",
    "'VGRF_right_s4Avg',\n",
    "'VGRF_right_s4Skewness',\n",
    "'VGRF_right_s4Kurtosis',\n",
    "'VGRF_right_s5Min',\n",
    "'VGRF_right_s5Max',\n",
    "'VGRF_right_s5Std',\n",
    "'VGRF_right_s5Med',\n",
    "'VGRF_right_s5Avg',\n",
    "'VGRF_right_s5Skewness',\n",
    "'VGRF_right_s5Kurtosis',\n",
    "'VGRF_right_s6Min',\n",
    "'VGRF_right_s6Max',\n",
    "'VGRF_right_s6Std',\n",
    "'VGRF_right_s6Med',\n",
    "'VGRF_right_s6Avg',\n",
    "'VGRF_right_s6Skewness',\n",
    "'VGRF_right_s6Kurtosis',\n",
    "'VGRF_right_s7Min',\n",
    "'VGRF_right_s7Max',\n",
    "'VGRF_right_s7Std',\n",
    "'VGRF_right_s7Med',\n",
    "'VGRF_right_s7Avg',\n",
    "'VGRF_right_s7Skewness',\n",
    "'VGRF_right_s7Kurtosis',\n",
    "'VGRF_right_s8Min',\n",
    "'VGRF_right_s8Max',\n",
    "'VGRF_right_s8Std',\n",
    "'VGRF_right_s8Med',\n",
    "'VGRF_right_s8Avg',\n",
    "'VGRF_right_s8Skewness',\n",
    "'VGRF_right_s8Kurtosis',\n",
    "'Total_force_leftMin',\n",
    "'Total_force_leftMax',\n",
    "'Total_force_leftStd',\n",
    "'Total_force_leftMed',\n",
    "'Total_force_leftAvg',\n",
    "'Total_force_leftSkewness',\n",
    "'Total_force_leftKurtosis',\n",
    "'Total_force_rightMin',\n",
    "'Total_force_rightMax',\n",
    "'Total_force_rightStd',\n",
    "'Total_force_rightMed',\n",
    "'Total_force_rightAvg',\n",
    "'Total_force_rightSkewness',\n",
    "'Total_force_rightKurtosis'\n",
    "]"
   ]
  },
  {
   "cell_type": "code",
   "execution_count": 27,
   "metadata": {},
   "outputs": [
    {
     "ename": "NameError",
     "evalue": "name 'plot_feature_importances' is not defined",
     "output_type": "error",
     "traceback": [
      "\u001b[1;31m---------------------------------------------------------------------------\u001b[0m",
      "\u001b[1;31mNameError\u001b[0m                                 Traceback (most recent call last)",
      "\u001b[1;32m<ipython-input-27-7459f590ee3c>\u001b[0m in \u001b[0;36m<module>\u001b[1;34m()\u001b[0m\n\u001b[0;32m      3\u001b[0m \u001b[1;33m\u001b[0m\u001b[0m\n\u001b[0;32m      4\u001b[0m \u001b[0mplt\u001b[0m\u001b[1;33m.\u001b[0m\u001b[0mfigure\u001b[0m\u001b[1;33m(\u001b[0m\u001b[0mfigsize\u001b[0m\u001b[1;33m=\u001b[0m\u001b[1;33m(\u001b[0m\u001b[1;36m10\u001b[0m\u001b[1;33m,\u001b[0m\u001b[1;36m4\u001b[0m\u001b[1;33m)\u001b[0m\u001b[1;33m,\u001b[0m \u001b[0mdpi\u001b[0m\u001b[1;33m=\u001b[0m\u001b[1;36m80\u001b[0m\u001b[1;33m)\u001b[0m\u001b[1;33m\u001b[0m\u001b[0m\n\u001b[1;32m----> 5\u001b[1;33m \u001b[0mplot_feature_importances\u001b[0m\u001b[1;33m(\u001b[0m\u001b[0mclf\u001b[0m\u001b[1;33m,\u001b[0m \u001b[0mzx\u001b[0m\u001b[1;33m)\u001b[0m\u001b[1;33m\u001b[0m\u001b[0m\n\u001b[0m\u001b[0;32m      6\u001b[0m \u001b[0mplt\u001b[0m\u001b[1;33m.\u001b[0m\u001b[0mshow\u001b[0m\u001b[1;33m(\u001b[0m\u001b[1;33m)\u001b[0m\u001b[1;33m\u001b[0m\u001b[0m\n\u001b[0;32m      7\u001b[0m \u001b[1;33m\u001b[0m\u001b[0m\n",
      "\u001b[1;31mNameError\u001b[0m: name 'plot_feature_importances' is not defined"
     ]
    }
   ],
   "source": [
    "\n",
    "\n",
    "\n",
    "plt.figure(figsize=(10,4), dpi=80)\n",
    "plot_feature_importances(clf, zx)\n",
    "plt.show()\n",
    "\n",
    "print('Feature importances: {}'.format(clf.feature_importances_))"
   ]
  },
  {
   "cell_type": "code",
   "execution_count": 28,
   "metadata": {},
   "outputs": [
    {
     "name": "stdout",
     "output_type": "stream",
     "text": [
      "Accuracy of Decision Tree classifier on training set: 1.00\n",
      "Accuracy of Decision Tree classifier on test set: 0.57\n"
     ]
    }
   ],
   "source": [
    "X_train, X_test, y_train1, y_test1 = train_test_split(X, y)\n",
    "clf = DecisionTreeClassifier(max_depth = 20).fit(X_train, y_train)\n",
    "\n",
    "print('Accuracy of Decision Tree classifier on training set: {:.2f}'\n",
    "     .format(clf.score(X_train, y_train)))\n",
    "print('Accuracy of Decision Tree classifier on test set: {:.2f}'\n",
    "     .format(clf.score(X_test, y_test)))"
   ]
  },
  {
   "cell_type": "code",
   "execution_count": 32,
   "metadata": {},
   "outputs": [
    {
     "name": "stdout",
     "output_type": "stream",
     "text": [
      "0.877729257642\n",
      "{'max_depth': 100}\n"
     ]
    }
   ],
   "source": [
    "from sklearn.metrics import accuracy_score, precision_score, recall_score, f1_score, auc\n",
    "from sklearn.model_selection import GridSearchCV\n",
    "best_score = 0\n",
    "for i in range(200):\n",
    "    X_train, X_test, y_train1, y_test1 = train_test_split(X, y)\n",
    "    y_train = pd.DataFrame(y_train1)\n",
    "    y_test = pd.DataFrame(y_test1)\n",
    "\n",
    "    \n",
    "    grid_values = {'max_depth': [1, 2, 4, 5, 7, 10, 15, 20, 25, 40, 60, 100]}\n",
    "    grid_clf = GridSearchCV(clf, param_grid=grid_values, scoring='accuracy')\n",
    "    grid_clf.fit(X_train, y_train1)\n",
    "    \n",
    "    \n",
    "    if best_score < grid_clf.best_score_:\n",
    "        best_score = grid_clf.best_score_\n",
    "        best_params = grid_clf.best_params_\n",
    "        prediction = grid_clf.predict(X_test)\n",
    "        \n",
    "        prec = precision_score(y_test, prediction)\n",
    "        rec = recall_score(y_test, prediction)\n",
    "        f1 = f1_score(y_test, prediction)\n",
    "        \n",
    "        \n",
    "print(best_score)\n",
    "print(best_params)"
   ]
  },
  {
   "cell_type": "code",
   "execution_count": 34,
   "metadata": {},
   "outputs": [
    {
     "name": "stdout",
     "output_type": "stream",
     "text": [
      "Precision: 0.8070\n",
      "Recall: 0.9200\n",
      "F1: 0.8598\n"
     ]
    }
   ],
   "source": [
    "\n",
    "\n",
    "print('Precision: {:.4f}'.format(prec))\n",
    "print('Recall: {:.4f}'.format(rec))\n",
    "print('F1: {:.4f}'.format(f1))\n"
   ]
  },
  {
   "cell_type": "code",
   "execution_count": null,
   "metadata": {
    "collapsed": true
   },
   "outputs": [],
   "source": []
  },
  {
   "cell_type": "code",
   "execution_count": null,
   "metadata": {
    "collapsed": true
   },
   "outputs": [],
   "source": []
  }
 ],
 "metadata": {
  "kernelspec": {
   "display_name": "Python 3",
   "language": "python",
   "name": "python3"
  },
  "language_info": {
   "codemirror_mode": {
    "name": "ipython",
    "version": 3
   },
   "file_extension": ".py",
   "mimetype": "text/x-python",
   "name": "python",
   "nbconvert_exporter": "python",
   "pygments_lexer": "ipython3",
   "version": "3.8.1"
  }
 },
 "nbformat": 4,
 "nbformat_minor": 2
}
